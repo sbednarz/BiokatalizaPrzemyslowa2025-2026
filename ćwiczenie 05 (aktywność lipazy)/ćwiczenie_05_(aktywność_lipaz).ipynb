{
  "cells": [
    {
      "cell_type": "markdown",
      "metadata": {
        "id": "vmA1Qx7tgakf"
      },
      "source": [
        "### Przykład 1\n",
        "Wykonano eksperyment polegający na ogrzewaniu w 37$^o$C przy pH=7.5 przez okres 10 min. 1% emulsji tributyryny z 2.5mg pewnej lipazy. Wydzielony podczas reakcji kwas masłowy oznaczono chromatograficznie (GC-FID). Obliczyć aktywność całkowitą i właściwą enzymu wiedząc, że ilość kwasu wynosi 760 $\\mu mol$.\n"
      ]
    },
    {
      "cell_type": "code",
      "execution_count": 13,
      "metadata": {
        "colab": {
          "base_uri": "https://localhost:8080/"
        },
        "id": "ySu-yvNCigJ7",
        "outputId": "8ceed166-c173-424d-a545-6bba2363af7e"
      },
      "outputs": [
        {
          "name": "stdout",
          "output_type": "stream",
          "text": [
            "Aktywność całkowita wynosi:  76.0 U\n",
            "Aktywność właściwa wynosi:  30.4 U/mg\n"
          ]
        }
      ],
      "source": [
        "delta_P = 760 # micromol - ilość wydzielonego produktu\n",
        "delta_t = 10 # min\n",
        "m = 2.5 # mg\n",
        "\n",
        "A_c = delta_P/delta_t\n",
        "A = A_c/m\n",
        "\n",
        "print(\"Aktywność całkowita wynosi: \", A_c, \"U\")\n",
        "print(\"Aktywność właściwa wynosi: \", A, \"U/mg\")\n"
      ]
    },
    {
      "cell_type": "markdown",
      "metadata": {
        "id": "2mhF_F7elrzJ"
      },
      "source": [
        "### Zadanie 1\n",
        "\n",
        "\n",
        "Przestudiuj procedurę oznaczania aktywności lipaz opisaną w\n",
        "[Neelima Kulkarni and R.V. Gadre 1998]:\n",
        "\n",
        "Oznaczenie metodą miareczkową\n",
        "\n",
        "Dwudziestogramową ilość poliwinylowego alkoholu rozpuszczalnego w zimnej wodzie rozpuszczono w 1000 ml wody destylowanej, a następnie przygotowano substrat poprzez zemulgowanie 10 ml tributyranu w 90 ml tego roztworu. Mieszaninę reakcyjną, składającą się z 5 ml emulsji substratu, 4 ml buforu Tris-HCl (0,1 M, pH 7,5) oraz 1 ml roztworu lipazy (Amano PS 0,5 mg/ml lub lipaza typu II 5 mg/ml), inkubowano w temperaturze 30 °C przez 30 minut. Reakcję zatrzymywano poprzez dodanie 20 ml mieszaniny aceton:etanol (1:1, v/v). Uwolnione kwasy tłuszczowe miareczkowano roztworem NaOH 0,01 M. Jednostkę aktywności zdefiniowano jako ilość enzymu uwalniającą 1 mM kwasu masłowego na minutę w warunkach standardowych.\n",
        "\n",
        "\n",
        "**Dane**\n",
        "Do zmiareczkowania próbki lipazy Amano PS zużyto 38.5 ml, natomiast próbki lipazy z trzustki wieprzowej 9.0 ml 0.1 M NaOH (Uwaga! Inne stężenie NaOH niż w publikacji). Obliczyć aktywności właściwe obu przemysłowych enzymów."
      ]
    },
    {
      "cell_type": "code",
      "execution_count": null,
      "metadata": {
        "id": "p-XADmIBuJR1"
      },
      "outputs": [],
      "source": []
    }
  ],
  "metadata": {
    "colab": {
      "provenance": []
    },
    "kernelspec": {
      "display_name": "Python 3",
      "name": "python3"
    },
    "language_info": {
      "name": "python"
    }
  },
  "nbformat": 4,
  "nbformat_minor": 0
}

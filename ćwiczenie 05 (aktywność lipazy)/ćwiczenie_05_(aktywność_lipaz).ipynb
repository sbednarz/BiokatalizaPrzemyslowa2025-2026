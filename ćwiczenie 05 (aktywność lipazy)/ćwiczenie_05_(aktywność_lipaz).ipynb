{
  "nbformat": 4,
  "nbformat_minor": 0,
  "metadata": {
    "colab": {
      "provenance": []
    },
    "kernelspec": {
      "name": "python3",
      "display_name": "Python 3"
    },
    "language_info": {
      "name": "python"
    }
  },
  "cells": [
    {
      "cell_type": "markdown",
      "source": [
        "### Przykład 1\n",
        "Wykonano eksperyment polegający na ogrzewaniu w 37$^o$C przy pH=7.5 przez okres 10 min. 1% emulsji tributyryny z 2.5mg pewnej lipazy. Wydzielony podczas reakcji kwas masłowy oznaczono chromatograficznie (GC-FID). Obliczyć aktywność całkowitą i właściwą enzymu wiedząc, że ilość kwasu wynosi 760 $\\mu mol$.\n"
      ],
      "metadata": {
        "id": "vmA1Qx7tgakf"
      }
    },
    {
      "cell_type": "code",
      "source": [
        "delta_P = 760 # micromol - ilość wydzielonego produktu\n",
        "delta_t = 10 # min\n",
        "m = 2.5 # mg\n",
        "\n",
        "A_c = delta_P/delta_t\n",
        "A = A_c/m\n",
        "\n",
        "print(\"Aktywność całkowita wynosi: \", A_c, \"U\")\n",
        "print(\"Aktywność właściwa wynosi: \", A, \"U/mg\")\n"
      ],
      "metadata": {
        "colab": {
          "base_uri": "https://localhost:8080/"
        },
        "id": "ySu-yvNCigJ7",
        "outputId": "8ceed166-c173-424d-a545-6bba2363af7e"
      },
      "execution_count": 13,
      "outputs": [
        {
          "output_type": "stream",
          "name": "stdout",
          "text": [
            "Aktywność całkowita wynosi:  76.0 U\n",
            "Aktywność właściwa wynosi:  30.4 U/mg\n"
          ]
        }
      ]
    },
    {
      "cell_type": "markdown",
      "source": [
        "### Zadanie 1\n",
        "\n",
        "\n",
        "Przestudiuj procedurę oznaczania aktywności lipaz opisaną w\n",
        "[Neelima Kulkarni and R.V. Gadre 1998]\n",
        "\n",
        "Do zmiareczkowania próbki lipazy Amano PS zużyto 38.5 ml, natomiast próbki lipazy z trzustki wieprzowej 9.0 ml 0.1 M NaOH (uwaga inne stężenie NaOH niż w publikacji). Obliczyć aktywności właściwe obu przemysłowych enzymów."
      ],
      "metadata": {
        "id": "2mhF_F7elrzJ"
      }
    },
    {
      "cell_type": "code",
      "source": [],
      "metadata": {
        "id": "p-XADmIBuJR1"
      },
      "execution_count": null,
      "outputs": []
    }
  ]
}
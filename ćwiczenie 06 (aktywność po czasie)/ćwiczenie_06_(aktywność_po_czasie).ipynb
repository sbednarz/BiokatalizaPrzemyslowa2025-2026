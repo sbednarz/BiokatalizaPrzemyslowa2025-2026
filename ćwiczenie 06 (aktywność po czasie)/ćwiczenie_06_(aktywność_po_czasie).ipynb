{
  "nbformat": 4,
  "nbformat_minor": 0,
  "metadata": {
    "colab": {
      "provenance": []
    },
    "kernelspec": {
      "name": "python3",
      "display_name": "Python 3"
    },
    "language_info": {
      "name": "python"
    }
  },
  "cells": [
    {
      "cell_type": "code",
      "execution_count": null,
      "metadata": {
        "id": "KKQIozMOwmAU"
      },
      "outputs": [],
      "source": []
    },
    {
      "cell_type": "markdown",
      "source": [
        "### Zadanie 1\n",
        "\n",
        "**[Problem Solving in Enzyme Biocatalysis ANDRES ILLANES, LORENA WILSON AND CARLOS VERA]**\n",
        "\n",
        "β-Galaktozydaza (β-D-galaktozyd galaktohydrolaza, EC 3.2.1.23) katalizuje hydrolizę laktozy do glukozy i galaktozy i jest szeroko stosowanym enzymem w przemyśle mleczarskim.\n",
        "Handlowy preparat ciekłej β-galaktozydazy pochodzący od _Kluyveromyces marxianus var. lactis_ jest używany do produkcji mleka o niskiej zawartości laktozy.\n",
        "\n",
        "Oznaczanie aktywności β-galaktozydazy w danym preparacie opiera się na oznaczeniu ilości glukozy w układzie HPLC z detektorem współczynnika załamania światła (RID).\n",
        "\n",
        "Procedura analityczna polega na dodaniu 0,3 mL preparatu enzymatycznego, rozcieńczonego trzykrotnie, do 1,2 mL roztworu laktozy o stężeniu 150 g · L⁻¹, a następnie inkubowaniu mieszaniny w temperaturze 35 °C i pH 6,4.\n",
        "Próbki pobiera się w różnych momentach reakcji, poddaje inaktywacji enzymu przez gotowanie, a następnie filtruje przed analizą HPLC. Uzyskano następujące wyniki:\n",
        "\n",
        "| t (min) | glukoza (mmol/L) |\n",
        "|:--------:|:-------:|\n",
        "| 0        | 0       |\n",
        "| 2        | 150     |\n",
        "| 4        | 307     |\n",
        "| 6        | 461     |\n",
        "| 8        | 597     |\n",
        "| 12       | 912     |\n",
        "| 18       | 942     |\n",
        "| 26       | 976     |\n",
        "| 36       | 999     |\n",
        "| 48       | 1015    |\n",
        "\n",
        "Obliczyć aktywność enzymu w tym preparacie używając definicji aktywności właściwej i biorą do obliczeń średnią szybkość powstawania glukozy w początkowym (liniowym) okresie reakcji hydrolizy laktozy.\n"
      ],
      "metadata": {
        "id": "eVOfq93qw0mN"
      }
    },
    {
      "cell_type": "code",
      "source": [
        "import numpy as np\n",
        "\n",
        "t = np.array([0, 2, 4, 6, 8, 12, 18, 26, 36, 48])       # czas [min]\n",
        "glu = np.array([0, 150, 307, 461, 597, 912, 942, 976, 999, 1015])  # stężenie [mM]\n",
        "\n",
        "# x3\n",
        "# x1.5/0.3\n",
        "# ans: 1134 IU/mL"
      ],
      "metadata": {
        "id": "lBSVJM4VxCUT"
      },
      "execution_count": 10,
      "outputs": []
    },
    {
      "cell_type": "code",
      "source": [],
      "metadata": {
        "id": "whD3h8n91qc6"
      },
      "execution_count": null,
      "outputs": []
    }
  ]
}